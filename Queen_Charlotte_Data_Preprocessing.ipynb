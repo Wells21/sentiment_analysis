{
  "nbformat": 4,
  "nbformat_minor": 0,
  "metadata": {
    "colab": {
      "provenance": []
    },
    "kernelspec": {
      "name": "python3",
      "display_name": "Python 3"
    },
    "language_info": {
      "name": "python"
    }
  },
  "cells": [
    {
      "cell_type": "markdown",
      "source": [
        "# Queen Charlotte: a bridgerton story\n",
        "\n",
        "## Opinion Minning"
      ],
      "metadata": {
        "id": "nA96enjs1x87"
      }
    },
    {
      "cell_type": "markdown",
      "source": [
        "Want to know how the audience accross the continent views the Queen Charlotte play? if that is your interest, this project is for you"
      ],
      "metadata": {
        "id": "VKDhEGYp4JW3"
      }
    },
    {
      "cell_type": "markdown",
      "source": [
        "------------------------------"
      ],
      "metadata": {
        "id": "UTzCWY3H4jX5"
      }
    },
    {
      "cell_type": "markdown",
      "source": [
        "I have extracted the tweets from twitter using the tweepy library. Now we just need to perform data cleaning and preprocessing to get our data fit for analysis."
      ],
      "metadata": {
        "id": "VtyPjNEw4o2K"
      }
    },
    {
      "cell_type": "code",
      "source": [
        "import pandas as pd\n",
        "import re\n",
        "from textblob import TextBlob\n",
        "from wordcloud import WordCloud"
      ],
      "metadata": {
        "id": "63EZz_Mc5KxL"
      },
      "execution_count": 1,
      "outputs": []
    },
    {
      "cell_type": "code",
      "source": [
        "# loading the data into a dataframe\n",
        "bridgerton = pd.read_csv(\"queen_charlotte.csv\")"
      ],
      "metadata": {
        "id": "HgGeEUfc4JGV"
      },
      "execution_count": 2,
      "outputs": []
    },
    {
      "cell_type": "code",
      "execution_count": 3,
      "metadata": {
        "colab": {
          "base_uri": "https://localhost:8080/",
          "height": 337
        },
        "id": "PIRC1QPL1Z0B",
        "outputId": "ac155cb1-30fb-483a-95ed-f292d9375b3b"
      },
      "outputs": [
        {
          "output_type": "execute_result",
          "data": {
            "text/plain": [
              "                                                Text           User  \\\n",
              "0  I feel like i am like George, Kate and Penelop...     clarissejh   \n",
              "1  Ah!!!’ Thank you mama!!! Love na love na love ...    itsrayvriel   \n",
              "2  Bets acting/chemistry pair on the show so far....        guiss89   \n",
              "3  🎙🎙🎙Join me tonight on my LIVE at  #instagram -...  duewafrazier1   \n",
              "4  don't know if today I should binge #QueenCharl...     mary__lou_   \n",
              "\n",
              "                                         Description  \\\n",
              "0                                                 🌍🌏   \n",
              "1                        $100 for profile inspection   \n",
              "2                              She/Her (fan account)   \n",
              "3  Writer, professor, @TEDx speaker & digital cre...   \n",
              "4  i get addicted easily\\n•\\n\\n\\n\\n\\n\\n\\n\\n\\n\\n\\n...   \n",
              "\n",
              "                   Timestamp       Location  Likes  \\\n",
              "0  2023-05-12 11:25:51+00:00            NaN      0   \n",
              "1  2023-05-12 11:25:39+00:00            NaN      0   \n",
              "2  2023-05-12 11:24:48+00:00            NaN      0   \n",
              "3  2023-05-12 11:24:37+00:00  United States      0   \n",
              "4  2023-05-12 11:23:47+00:00            NaN      0   \n",
              "\n",
              "                                            Hashtags  \n",
              "0                                     QueenCharlotte  \n",
              "1                                     QueenCharlotte  \n",
              "2                                     QueenCharlotte  \n",
              "3  instagram, Tupac, docuseries, podcasts, DuEwa,...  \n",
              "4                           QueenCharlotte, TheGreat  "
            ],
            "text/html": [
              "\n",
              "  <div id=\"df-b9266381-918f-4ea9-a936-3e17f653a90b\">\n",
              "    <div class=\"colab-df-container\">\n",
              "      <div>\n",
              "<style scoped>\n",
              "    .dataframe tbody tr th:only-of-type {\n",
              "        vertical-align: middle;\n",
              "    }\n",
              "\n",
              "    .dataframe tbody tr th {\n",
              "        vertical-align: top;\n",
              "    }\n",
              "\n",
              "    .dataframe thead th {\n",
              "        text-align: right;\n",
              "    }\n",
              "</style>\n",
              "<table border=\"1\" class=\"dataframe\">\n",
              "  <thead>\n",
              "    <tr style=\"text-align: right;\">\n",
              "      <th></th>\n",
              "      <th>Text</th>\n",
              "      <th>User</th>\n",
              "      <th>Description</th>\n",
              "      <th>Timestamp</th>\n",
              "      <th>Location</th>\n",
              "      <th>Likes</th>\n",
              "      <th>Hashtags</th>\n",
              "    </tr>\n",
              "  </thead>\n",
              "  <tbody>\n",
              "    <tr>\n",
              "      <th>0</th>\n",
              "      <td>I feel like i am like George, Kate and Penelop...</td>\n",
              "      <td>clarissejh</td>\n",
              "      <td>🌍🌏</td>\n",
              "      <td>2023-05-12 11:25:51+00:00</td>\n",
              "      <td>NaN</td>\n",
              "      <td>0</td>\n",
              "      <td>QueenCharlotte</td>\n",
              "    </tr>\n",
              "    <tr>\n",
              "      <th>1</th>\n",
              "      <td>Ah!!!’ Thank you mama!!! Love na love na love ...</td>\n",
              "      <td>itsrayvriel</td>\n",
              "      <td>$100 for profile inspection</td>\n",
              "      <td>2023-05-12 11:25:39+00:00</td>\n",
              "      <td>NaN</td>\n",
              "      <td>0</td>\n",
              "      <td>QueenCharlotte</td>\n",
              "    </tr>\n",
              "    <tr>\n",
              "      <th>2</th>\n",
              "      <td>Bets acting/chemistry pair on the show so far....</td>\n",
              "      <td>guiss89</td>\n",
              "      <td>She/Her (fan account)</td>\n",
              "      <td>2023-05-12 11:24:48+00:00</td>\n",
              "      <td>NaN</td>\n",
              "      <td>0</td>\n",
              "      <td>QueenCharlotte</td>\n",
              "    </tr>\n",
              "    <tr>\n",
              "      <th>3</th>\n",
              "      <td>🎙🎙🎙Join me tonight on my LIVE at  #instagram -...</td>\n",
              "      <td>duewafrazier1</td>\n",
              "      <td>Writer, professor, @TEDx speaker &amp; digital cre...</td>\n",
              "      <td>2023-05-12 11:24:37+00:00</td>\n",
              "      <td>United States</td>\n",
              "      <td>0</td>\n",
              "      <td>instagram, Tupac, docuseries, podcasts, DuEwa,...</td>\n",
              "    </tr>\n",
              "    <tr>\n",
              "      <th>4</th>\n",
              "      <td>don't know if today I should binge #QueenCharl...</td>\n",
              "      <td>mary__lou_</td>\n",
              "      <td>i get addicted easily\\n•\\n\\n\\n\\n\\n\\n\\n\\n\\n\\n\\n...</td>\n",
              "      <td>2023-05-12 11:23:47+00:00</td>\n",
              "      <td>NaN</td>\n",
              "      <td>0</td>\n",
              "      <td>QueenCharlotte, TheGreat</td>\n",
              "    </tr>\n",
              "  </tbody>\n",
              "</table>\n",
              "</div>\n",
              "      <button class=\"colab-df-convert\" onclick=\"convertToInteractive('df-b9266381-918f-4ea9-a936-3e17f653a90b')\"\n",
              "              title=\"Convert this dataframe to an interactive table.\"\n",
              "              style=\"display:none;\">\n",
              "        \n",
              "  <svg xmlns=\"http://www.w3.org/2000/svg\" height=\"24px\"viewBox=\"0 0 24 24\"\n",
              "       width=\"24px\">\n",
              "    <path d=\"M0 0h24v24H0V0z\" fill=\"none\"/>\n",
              "    <path d=\"M18.56 5.44l.94 2.06.94-2.06 2.06-.94-2.06-.94-.94-2.06-.94 2.06-2.06.94zm-11 1L8.5 8.5l.94-2.06 2.06-.94-2.06-.94L8.5 2.5l-.94 2.06-2.06.94zm10 10l.94 2.06.94-2.06 2.06-.94-2.06-.94-.94-2.06-.94 2.06-2.06.94z\"/><path d=\"M17.41 7.96l-1.37-1.37c-.4-.4-.92-.59-1.43-.59-.52 0-1.04.2-1.43.59L10.3 9.45l-7.72 7.72c-.78.78-.78 2.05 0 2.83L4 21.41c.39.39.9.59 1.41.59.51 0 1.02-.2 1.41-.59l7.78-7.78 2.81-2.81c.8-.78.8-2.07 0-2.86zM5.41 20L4 18.59l7.72-7.72 1.47 1.35L5.41 20z\"/>\n",
              "  </svg>\n",
              "      </button>\n",
              "      \n",
              "  <style>\n",
              "    .colab-df-container {\n",
              "      display:flex;\n",
              "      flex-wrap:wrap;\n",
              "      gap: 12px;\n",
              "    }\n",
              "\n",
              "    .colab-df-convert {\n",
              "      background-color: #E8F0FE;\n",
              "      border: none;\n",
              "      border-radius: 50%;\n",
              "      cursor: pointer;\n",
              "      display: none;\n",
              "      fill: #1967D2;\n",
              "      height: 32px;\n",
              "      padding: 0 0 0 0;\n",
              "      width: 32px;\n",
              "    }\n",
              "\n",
              "    .colab-df-convert:hover {\n",
              "      background-color: #E2EBFA;\n",
              "      box-shadow: 0px 1px 2px rgba(60, 64, 67, 0.3), 0px 1px 3px 1px rgba(60, 64, 67, 0.15);\n",
              "      fill: #174EA6;\n",
              "    }\n",
              "\n",
              "    [theme=dark] .colab-df-convert {\n",
              "      background-color: #3B4455;\n",
              "      fill: #D2E3FC;\n",
              "    }\n",
              "\n",
              "    [theme=dark] .colab-df-convert:hover {\n",
              "      background-color: #434B5C;\n",
              "      box-shadow: 0px 1px 3px 1px rgba(0, 0, 0, 0.15);\n",
              "      filter: drop-shadow(0px 1px 2px rgba(0, 0, 0, 0.3));\n",
              "      fill: #FFFFFF;\n",
              "    }\n",
              "  </style>\n",
              "\n",
              "      <script>\n",
              "        const buttonEl =\n",
              "          document.querySelector('#df-b9266381-918f-4ea9-a936-3e17f653a90b button.colab-df-convert');\n",
              "        buttonEl.style.display =\n",
              "          google.colab.kernel.accessAllowed ? 'block' : 'none';\n",
              "\n",
              "        async function convertToInteractive(key) {\n",
              "          const element = document.querySelector('#df-b9266381-918f-4ea9-a936-3e17f653a90b');\n",
              "          const dataTable =\n",
              "            await google.colab.kernel.invokeFunction('convertToInteractive',\n",
              "                                                     [key], {});\n",
              "          if (!dataTable) return;\n",
              "\n",
              "          const docLinkHtml = 'Like what you see? Visit the ' +\n",
              "            '<a target=\"_blank\" href=https://colab.research.google.com/notebooks/data_table.ipynb>data table notebook</a>'\n",
              "            + ' to learn more about interactive tables.';\n",
              "          element.innerHTML = '';\n",
              "          dataTable['output_type'] = 'display_data';\n",
              "          await google.colab.output.renderOutput(dataTable, element);\n",
              "          const docLink = document.createElement('div');\n",
              "          docLink.innerHTML = docLinkHtml;\n",
              "          element.appendChild(docLink);\n",
              "        }\n",
              "      </script>\n",
              "    </div>\n",
              "  </div>\n",
              "  "
            ]
          },
          "metadata": {},
          "execution_count": 3
        }
      ],
      "source": [
        "bridgerton.head()"
      ]
    },
    {
      "cell_type": "markdown",
      "source": [
        "If you notice, there are hashtags inside the texts which can be inefficient for our analysis, so we need to get rid of that"
      ],
      "metadata": {
        "id": "Ooogs4rq5g60"
      }
    },
    {
      "cell_type": "code",
      "source": [
        "bridgerton['Text'] = bridgerton['Text'].str.replace(r'http\\S+|www.\\S+|@\\S+|[^a-zA-Z0-9\\s]', '', regex=True)"
      ],
      "metadata": {
        "id": "FlCMpx7n6_MO"
      },
      "execution_count": 4,
      "outputs": []
    },
    {
      "cell_type": "code",
      "source": [
        "bridgerton.head()"
      ],
      "metadata": {
        "colab": {
          "base_uri": "https://localhost:8080/",
          "height": 337
        },
        "id": "vsiQFkTk7M35",
        "outputId": "cf31be25-91a2-490b-8068-aec92303e3c9"
      },
      "execution_count": 5,
      "outputs": [
        {
          "output_type": "execute_result",
          "data": {
            "text/plain": [
              "                                                Text           User  \\\n",
              "0  I feel like i am like George Kate and Penelope...     clarissejh   \n",
              "1  Ah Thank you mama Love na love na love na love...    itsrayvriel   \n",
              "2  Bets actingchemistry pair on the show so far O...        guiss89   \n",
              "3  Join me tonight on my LIVE at  instagram  two ...  duewafrazier1   \n",
              "4  dont know if today I should binge QueenCharlot...     mary__lou_   \n",
              "\n",
              "                                         Description  \\\n",
              "0                                                 🌍🌏   \n",
              "1                        $100 for profile inspection   \n",
              "2                              She/Her (fan account)   \n",
              "3  Writer, professor, @TEDx speaker & digital cre...   \n",
              "4  i get addicted easily\\n•\\n\\n\\n\\n\\n\\n\\n\\n\\n\\n\\n...   \n",
              "\n",
              "                   Timestamp       Location  Likes  \\\n",
              "0  2023-05-12 11:25:51+00:00            NaN      0   \n",
              "1  2023-05-12 11:25:39+00:00            NaN      0   \n",
              "2  2023-05-12 11:24:48+00:00            NaN      0   \n",
              "3  2023-05-12 11:24:37+00:00  United States      0   \n",
              "4  2023-05-12 11:23:47+00:00            NaN      0   \n",
              "\n",
              "                                            Hashtags  \n",
              "0                                     QueenCharlotte  \n",
              "1                                     QueenCharlotte  \n",
              "2                                     QueenCharlotte  \n",
              "3  instagram, Tupac, docuseries, podcasts, DuEwa,...  \n",
              "4                           QueenCharlotte, TheGreat  "
            ],
            "text/html": [
              "\n",
              "  <div id=\"df-c25843dc-a434-4d27-9ef0-3bef04b42b8c\">\n",
              "    <div class=\"colab-df-container\">\n",
              "      <div>\n",
              "<style scoped>\n",
              "    .dataframe tbody tr th:only-of-type {\n",
              "        vertical-align: middle;\n",
              "    }\n",
              "\n",
              "    .dataframe tbody tr th {\n",
              "        vertical-align: top;\n",
              "    }\n",
              "\n",
              "    .dataframe thead th {\n",
              "        text-align: right;\n",
              "    }\n",
              "</style>\n",
              "<table border=\"1\" class=\"dataframe\">\n",
              "  <thead>\n",
              "    <tr style=\"text-align: right;\">\n",
              "      <th></th>\n",
              "      <th>Text</th>\n",
              "      <th>User</th>\n",
              "      <th>Description</th>\n",
              "      <th>Timestamp</th>\n",
              "      <th>Location</th>\n",
              "      <th>Likes</th>\n",
              "      <th>Hashtags</th>\n",
              "    </tr>\n",
              "  </thead>\n",
              "  <tbody>\n",
              "    <tr>\n",
              "      <th>0</th>\n",
              "      <td>I feel like i am like George Kate and Penelope...</td>\n",
              "      <td>clarissejh</td>\n",
              "      <td>🌍🌏</td>\n",
              "      <td>2023-05-12 11:25:51+00:00</td>\n",
              "      <td>NaN</td>\n",
              "      <td>0</td>\n",
              "      <td>QueenCharlotte</td>\n",
              "    </tr>\n",
              "    <tr>\n",
              "      <th>1</th>\n",
              "      <td>Ah Thank you mama Love na love na love na love...</td>\n",
              "      <td>itsrayvriel</td>\n",
              "      <td>$100 for profile inspection</td>\n",
              "      <td>2023-05-12 11:25:39+00:00</td>\n",
              "      <td>NaN</td>\n",
              "      <td>0</td>\n",
              "      <td>QueenCharlotte</td>\n",
              "    </tr>\n",
              "    <tr>\n",
              "      <th>2</th>\n",
              "      <td>Bets actingchemistry pair on the show so far O...</td>\n",
              "      <td>guiss89</td>\n",
              "      <td>She/Her (fan account)</td>\n",
              "      <td>2023-05-12 11:24:48+00:00</td>\n",
              "      <td>NaN</td>\n",
              "      <td>0</td>\n",
              "      <td>QueenCharlotte</td>\n",
              "    </tr>\n",
              "    <tr>\n",
              "      <th>3</th>\n",
              "      <td>Join me tonight on my LIVE at  instagram  two ...</td>\n",
              "      <td>duewafrazier1</td>\n",
              "      <td>Writer, professor, @TEDx speaker &amp; digital cre...</td>\n",
              "      <td>2023-05-12 11:24:37+00:00</td>\n",
              "      <td>United States</td>\n",
              "      <td>0</td>\n",
              "      <td>instagram, Tupac, docuseries, podcasts, DuEwa,...</td>\n",
              "    </tr>\n",
              "    <tr>\n",
              "      <th>4</th>\n",
              "      <td>dont know if today I should binge QueenCharlot...</td>\n",
              "      <td>mary__lou_</td>\n",
              "      <td>i get addicted easily\\n•\\n\\n\\n\\n\\n\\n\\n\\n\\n\\n\\n...</td>\n",
              "      <td>2023-05-12 11:23:47+00:00</td>\n",
              "      <td>NaN</td>\n",
              "      <td>0</td>\n",
              "      <td>QueenCharlotte, TheGreat</td>\n",
              "    </tr>\n",
              "  </tbody>\n",
              "</table>\n",
              "</div>\n",
              "      <button class=\"colab-df-convert\" onclick=\"convertToInteractive('df-c25843dc-a434-4d27-9ef0-3bef04b42b8c')\"\n",
              "              title=\"Convert this dataframe to an interactive table.\"\n",
              "              style=\"display:none;\">\n",
              "        \n",
              "  <svg xmlns=\"http://www.w3.org/2000/svg\" height=\"24px\"viewBox=\"0 0 24 24\"\n",
              "       width=\"24px\">\n",
              "    <path d=\"M0 0h24v24H0V0z\" fill=\"none\"/>\n",
              "    <path d=\"M18.56 5.44l.94 2.06.94-2.06 2.06-.94-2.06-.94-.94-2.06-.94 2.06-2.06.94zm-11 1L8.5 8.5l.94-2.06 2.06-.94-2.06-.94L8.5 2.5l-.94 2.06-2.06.94zm10 10l.94 2.06.94-2.06 2.06-.94-2.06-.94-.94-2.06-.94 2.06-2.06.94z\"/><path d=\"M17.41 7.96l-1.37-1.37c-.4-.4-.92-.59-1.43-.59-.52 0-1.04.2-1.43.59L10.3 9.45l-7.72 7.72c-.78.78-.78 2.05 0 2.83L4 21.41c.39.39.9.59 1.41.59.51 0 1.02-.2 1.41-.59l7.78-7.78 2.81-2.81c.8-.78.8-2.07 0-2.86zM5.41 20L4 18.59l7.72-7.72 1.47 1.35L5.41 20z\"/>\n",
              "  </svg>\n",
              "      </button>\n",
              "      \n",
              "  <style>\n",
              "    .colab-df-container {\n",
              "      display:flex;\n",
              "      flex-wrap:wrap;\n",
              "      gap: 12px;\n",
              "    }\n",
              "\n",
              "    .colab-df-convert {\n",
              "      background-color: #E8F0FE;\n",
              "      border: none;\n",
              "      border-radius: 50%;\n",
              "      cursor: pointer;\n",
              "      display: none;\n",
              "      fill: #1967D2;\n",
              "      height: 32px;\n",
              "      padding: 0 0 0 0;\n",
              "      width: 32px;\n",
              "    }\n",
              "\n",
              "    .colab-df-convert:hover {\n",
              "      background-color: #E2EBFA;\n",
              "      box-shadow: 0px 1px 2px rgba(60, 64, 67, 0.3), 0px 1px 3px 1px rgba(60, 64, 67, 0.15);\n",
              "      fill: #174EA6;\n",
              "    }\n",
              "\n",
              "    [theme=dark] .colab-df-convert {\n",
              "      background-color: #3B4455;\n",
              "      fill: #D2E3FC;\n",
              "    }\n",
              "\n",
              "    [theme=dark] .colab-df-convert:hover {\n",
              "      background-color: #434B5C;\n",
              "      box-shadow: 0px 1px 3px 1px rgba(0, 0, 0, 0.15);\n",
              "      filter: drop-shadow(0px 1px 2px rgba(0, 0, 0, 0.3));\n",
              "      fill: #FFFFFF;\n",
              "    }\n",
              "  </style>\n",
              "\n",
              "      <script>\n",
              "        const buttonEl =\n",
              "          document.querySelector('#df-c25843dc-a434-4d27-9ef0-3bef04b42b8c button.colab-df-convert');\n",
              "        buttonEl.style.display =\n",
              "          google.colab.kernel.accessAllowed ? 'block' : 'none';\n",
              "\n",
              "        async function convertToInteractive(key) {\n",
              "          const element = document.querySelector('#df-c25843dc-a434-4d27-9ef0-3bef04b42b8c');\n",
              "          const dataTable =\n",
              "            await google.colab.kernel.invokeFunction('convertToInteractive',\n",
              "                                                     [key], {});\n",
              "          if (!dataTable) return;\n",
              "\n",
              "          const docLinkHtml = 'Like what you see? Visit the ' +\n",
              "            '<a target=\"_blank\" href=https://colab.research.google.com/notebooks/data_table.ipynb>data table notebook</a>'\n",
              "            + ' to learn more about interactive tables.';\n",
              "          element.innerHTML = '';\n",
              "          dataTable['output_type'] = 'display_data';\n",
              "          await google.colab.output.renderOutput(dataTable, element);\n",
              "          const docLink = document.createElement('div');\n",
              "          docLink.innerHTML = docLinkHtml;\n",
              "          element.appendChild(docLink);\n",
              "        }\n",
              "      </script>\n",
              "    </div>\n",
              "  </div>\n",
              "  "
            ]
          },
          "metadata": {},
          "execution_count": 5
        }
      ]
    },
    {
      "cell_type": "code",
      "source": [
        "print(\"Data types of columns present: \")\n",
        "print(bridgerton.dtypes)"
      ],
      "metadata": {
        "colab": {
          "base_uri": "https://localhost:8080/"
        },
        "id": "ijDff9j77u5r",
        "outputId": "7887bc3e-57be-40f9-98a4-ceb297f516f5"
      },
      "execution_count": 6,
      "outputs": [
        {
          "output_type": "stream",
          "name": "stdout",
          "text": [
            "Data types of columns present: \n",
            "Text           object\n",
            "User           object\n",
            "Description    object\n",
            "Timestamp      object\n",
            "Location       object\n",
            "Likes           int64\n",
            "Hashtags       object\n",
            "dtype: object\n"
          ]
        }
      ]
    },
    {
      "cell_type": "code",
      "source": [
        "bridgerton.shape"
      ],
      "metadata": {
        "colab": {
          "base_uri": "https://localhost:8080/"
        },
        "id": "3olmSpix-ApH",
        "outputId": "2104f66a-882d-4747-b389-5abc2f369b3c"
      },
      "execution_count": 7,
      "outputs": [
        {
          "output_type": "execute_result",
          "data": {
            "text/plain": [
              "(47201, 7)"
            ]
          },
          "metadata": {},
          "execution_count": 7
        }
      ]
    },
    {
      "cell_type": "markdown",
      "source": [
        "From this dataframe, we would be removing rows that has a null value in the Location column"
      ],
      "metadata": {
        "id": "6uhMlgvmCqeM"
      }
    },
    {
      "cell_type": "code",
      "source": [
        "bridgerton = bridgerton.dropna(subset=['Location'])"
      ],
      "metadata": {
        "id": "J1LwFd_p8yfO"
      },
      "execution_count": 8,
      "outputs": []
    },
    {
      "cell_type": "code",
      "source": [
        "bridgerton.shape"
      ],
      "metadata": {
        "colab": {
          "base_uri": "https://localhost:8080/"
        },
        "id": "MWUVUpzVDCql",
        "outputId": "8beec26c-ef6c-4a82-dcbe-34b56c5113b2"
      },
      "execution_count": 9,
      "outputs": [
        {
          "output_type": "execute_result",
          "data": {
            "text/plain": [
              "(33129, 7)"
            ]
          },
          "metadata": {},
          "execution_count": 9
        }
      ]
    },
    {
      "cell_type": "code",
      "source": [
        "bridgerton.head()"
      ],
      "metadata": {
        "colab": {
          "base_uri": "https://localhost:8080/",
          "height": 337
        },
        "id": "e20WNid_Dozi",
        "outputId": "e1de2ce2-42d8-4720-a723-e64e8043927a"
      },
      "execution_count": 10,
      "outputs": [
        {
          "output_type": "execute_result",
          "data": {
            "text/plain": [
              "                                                 Text            User  \\\n",
              "3   Join me tonight on my LIVE at  instagram  two ...   duewafrazier1   \n",
              "6   That scene where Charlotte says Venus is beaut...   _wildflowersx   \n",
              "7   Corey Mylcheerest at the Vogue and Netflix pre...   archivequeenc   \n",
              "10  QueenCharlotte Netflix \\nking George what a sw...  SumaiyaNadeem2   \n",
              "11         Some scenes in QueenCharlotte made me cry        Disparue_   \n",
              "\n",
              "                                          Description  \\\n",
              "3   Writer, professor, @TEDx speaker & digital cre...   \n",
              "6                                              phool.   \n",
              "7   Fan account for Queen Charlotte: A Bridgerton ...   \n",
              "10                                          MAngaaa😇😍   \n",
              "11  Je vais étendre mon alie et je vais apprendre ...   \n",
              "\n",
              "                    Timestamp          Location  Likes  \\\n",
              "3   2023-05-12 11:24:37+00:00     United States      0   \n",
              "6   2023-05-12 11:21:49+00:00  Karnataka, India      1   \n",
              "7   2023-05-12 11:21:45+00:00   London, England     11   \n",
              "10  2023-05-12 11:18:23+00:00        Manchester      0   \n",
              "11  2023-05-12 11:16:50+00:00        In my head      0   \n",
              "\n",
              "                                             Hashtags  \n",
              "3   instagram, Tupac, docuseries, podcasts, DuEwa,...  \n",
              "6                                      QueenCharlotte  \n",
              "7                                      queencharlotte  \n",
              "10                            QueenCharlotte, Netflix  \n",
              "11                                     QueenCharlotte  "
            ],
            "text/html": [
              "\n",
              "  <div id=\"df-2d5b62b5-2b3f-4d02-ab0d-aa183f8bcf4b\">\n",
              "    <div class=\"colab-df-container\">\n",
              "      <div>\n",
              "<style scoped>\n",
              "    .dataframe tbody tr th:only-of-type {\n",
              "        vertical-align: middle;\n",
              "    }\n",
              "\n",
              "    .dataframe tbody tr th {\n",
              "        vertical-align: top;\n",
              "    }\n",
              "\n",
              "    .dataframe thead th {\n",
              "        text-align: right;\n",
              "    }\n",
              "</style>\n",
              "<table border=\"1\" class=\"dataframe\">\n",
              "  <thead>\n",
              "    <tr style=\"text-align: right;\">\n",
              "      <th></th>\n",
              "      <th>Text</th>\n",
              "      <th>User</th>\n",
              "      <th>Description</th>\n",
              "      <th>Timestamp</th>\n",
              "      <th>Location</th>\n",
              "      <th>Likes</th>\n",
              "      <th>Hashtags</th>\n",
              "    </tr>\n",
              "  </thead>\n",
              "  <tbody>\n",
              "    <tr>\n",
              "      <th>3</th>\n",
              "      <td>Join me tonight on my LIVE at  instagram  two ...</td>\n",
              "      <td>duewafrazier1</td>\n",
              "      <td>Writer, professor, @TEDx speaker &amp; digital cre...</td>\n",
              "      <td>2023-05-12 11:24:37+00:00</td>\n",
              "      <td>United States</td>\n",
              "      <td>0</td>\n",
              "      <td>instagram, Tupac, docuseries, podcasts, DuEwa,...</td>\n",
              "    </tr>\n",
              "    <tr>\n",
              "      <th>6</th>\n",
              "      <td>That scene where Charlotte says Venus is beaut...</td>\n",
              "      <td>_wildflowersx</td>\n",
              "      <td>phool.</td>\n",
              "      <td>2023-05-12 11:21:49+00:00</td>\n",
              "      <td>Karnataka, India</td>\n",
              "      <td>1</td>\n",
              "      <td>QueenCharlotte</td>\n",
              "    </tr>\n",
              "    <tr>\n",
              "      <th>7</th>\n",
              "      <td>Corey Mylcheerest at the Vogue and Netflix pre...</td>\n",
              "      <td>archivequeenc</td>\n",
              "      <td>Fan account for Queen Charlotte: A Bridgerton ...</td>\n",
              "      <td>2023-05-12 11:21:45+00:00</td>\n",
              "      <td>London, England</td>\n",
              "      <td>11</td>\n",
              "      <td>queencharlotte</td>\n",
              "    </tr>\n",
              "    <tr>\n",
              "      <th>10</th>\n",
              "      <td>QueenCharlotte Netflix \\nking George what a sw...</td>\n",
              "      <td>SumaiyaNadeem2</td>\n",
              "      <td>MAngaaa😇😍</td>\n",
              "      <td>2023-05-12 11:18:23+00:00</td>\n",
              "      <td>Manchester</td>\n",
              "      <td>0</td>\n",
              "      <td>QueenCharlotte, Netflix</td>\n",
              "    </tr>\n",
              "    <tr>\n",
              "      <th>11</th>\n",
              "      <td>Some scenes in QueenCharlotte made me cry</td>\n",
              "      <td>Disparue_</td>\n",
              "      <td>Je vais étendre mon alie et je vais apprendre ...</td>\n",
              "      <td>2023-05-12 11:16:50+00:00</td>\n",
              "      <td>In my head</td>\n",
              "      <td>0</td>\n",
              "      <td>QueenCharlotte</td>\n",
              "    </tr>\n",
              "  </tbody>\n",
              "</table>\n",
              "</div>\n",
              "      <button class=\"colab-df-convert\" onclick=\"convertToInteractive('df-2d5b62b5-2b3f-4d02-ab0d-aa183f8bcf4b')\"\n",
              "              title=\"Convert this dataframe to an interactive table.\"\n",
              "              style=\"display:none;\">\n",
              "        \n",
              "  <svg xmlns=\"http://www.w3.org/2000/svg\" height=\"24px\"viewBox=\"0 0 24 24\"\n",
              "       width=\"24px\">\n",
              "    <path d=\"M0 0h24v24H0V0z\" fill=\"none\"/>\n",
              "    <path d=\"M18.56 5.44l.94 2.06.94-2.06 2.06-.94-2.06-.94-.94-2.06-.94 2.06-2.06.94zm-11 1L8.5 8.5l.94-2.06 2.06-.94-2.06-.94L8.5 2.5l-.94 2.06-2.06.94zm10 10l.94 2.06.94-2.06 2.06-.94-2.06-.94-.94-2.06-.94 2.06-2.06.94z\"/><path d=\"M17.41 7.96l-1.37-1.37c-.4-.4-.92-.59-1.43-.59-.52 0-1.04.2-1.43.59L10.3 9.45l-7.72 7.72c-.78.78-.78 2.05 0 2.83L4 21.41c.39.39.9.59 1.41.59.51 0 1.02-.2 1.41-.59l7.78-7.78 2.81-2.81c.8-.78.8-2.07 0-2.86zM5.41 20L4 18.59l7.72-7.72 1.47 1.35L5.41 20z\"/>\n",
              "  </svg>\n",
              "      </button>\n",
              "      \n",
              "  <style>\n",
              "    .colab-df-container {\n",
              "      display:flex;\n",
              "      flex-wrap:wrap;\n",
              "      gap: 12px;\n",
              "    }\n",
              "\n",
              "    .colab-df-convert {\n",
              "      background-color: #E8F0FE;\n",
              "      border: none;\n",
              "      border-radius: 50%;\n",
              "      cursor: pointer;\n",
              "      display: none;\n",
              "      fill: #1967D2;\n",
              "      height: 32px;\n",
              "      padding: 0 0 0 0;\n",
              "      width: 32px;\n",
              "    }\n",
              "\n",
              "    .colab-df-convert:hover {\n",
              "      background-color: #E2EBFA;\n",
              "      box-shadow: 0px 1px 2px rgba(60, 64, 67, 0.3), 0px 1px 3px 1px rgba(60, 64, 67, 0.15);\n",
              "      fill: #174EA6;\n",
              "    }\n",
              "\n",
              "    [theme=dark] .colab-df-convert {\n",
              "      background-color: #3B4455;\n",
              "      fill: #D2E3FC;\n",
              "    }\n",
              "\n",
              "    [theme=dark] .colab-df-convert:hover {\n",
              "      background-color: #434B5C;\n",
              "      box-shadow: 0px 1px 3px 1px rgba(0, 0, 0, 0.15);\n",
              "      filter: drop-shadow(0px 1px 2px rgba(0, 0, 0, 0.3));\n",
              "      fill: #FFFFFF;\n",
              "    }\n",
              "  </style>\n",
              "\n",
              "      <script>\n",
              "        const buttonEl =\n",
              "          document.querySelector('#df-2d5b62b5-2b3f-4d02-ab0d-aa183f8bcf4b button.colab-df-convert');\n",
              "        buttonEl.style.display =\n",
              "          google.colab.kernel.accessAllowed ? 'block' : 'none';\n",
              "\n",
              "        async function convertToInteractive(key) {\n",
              "          const element = document.querySelector('#df-2d5b62b5-2b3f-4d02-ab0d-aa183f8bcf4b');\n",
              "          const dataTable =\n",
              "            await google.colab.kernel.invokeFunction('convertToInteractive',\n",
              "                                                     [key], {});\n",
              "          if (!dataTable) return;\n",
              "\n",
              "          const docLinkHtml = 'Like what you see? Visit the ' +\n",
              "            '<a target=\"_blank\" href=https://colab.research.google.com/notebooks/data_table.ipynb>data table notebook</a>'\n",
              "            + ' to learn more about interactive tables.';\n",
              "          element.innerHTML = '';\n",
              "          dataTable['output_type'] = 'display_data';\n",
              "          await google.colab.output.renderOutput(dataTable, element);\n",
              "          const docLink = document.createElement('div');\n",
              "          docLink.innerHTML = docLinkHtml;\n",
              "          element.appendChild(docLink);\n",
              "        }\n",
              "      </script>\n",
              "    </div>\n",
              "  </div>\n",
              "  "
            ]
          },
          "metadata": {},
          "execution_count": 10
        }
      ]
    },
    {
      "cell_type": "markdown",
      "source": [
        "Let's convert both the dataframe **Timestamp** Column to a datetime column without a UTC timezone"
      ],
      "metadata": {
        "id": "InFEyVQIEbFc"
      }
    },
    {
      "cell_type": "code",
      "source": [
        "# first let's convert the column to a datetime column\n",
        "\n",
        "bridgerton['Timestamp'] = pd.to_datetime(bridgerton['Timestamp'])"
      ],
      "metadata": {
        "id": "5w94_pMuTzLK"
      },
      "execution_count": 11,
      "outputs": []
    },
    {
      "cell_type": "code",
      "source": [
        "bridgerton['Timestamp'] = bridgerton['Timestamp'].dt.tz_convert(None).dt.tz_localize(None)"
      ],
      "metadata": {
        "id": "tYAsfaN5E_wG"
      },
      "execution_count": 12,
      "outputs": []
    },
    {
      "cell_type": "code",
      "source": [
        "bridgerton.dtypes"
      ],
      "metadata": {
        "colab": {
          "base_uri": "https://localhost:8080/"
        },
        "id": "PYBBtRPyGDCe",
        "outputId": "0e068956-6f80-4413-cf84-55c6f6886971"
      },
      "execution_count": 13,
      "outputs": [
        {
          "output_type": "execute_result",
          "data": {
            "text/plain": [
              "Text                   object\n",
              "User                   object\n",
              "Description            object\n",
              "Timestamp      datetime64[ns]\n",
              "Location               object\n",
              "Likes                   int64\n",
              "Hashtags               object\n",
              "dtype: object"
            ]
          },
          "metadata": {},
          "execution_count": 13
        }
      ]
    },
    {
      "cell_type": "markdown",
      "source": [
        "Let's check if any other column contains a null value"
      ],
      "metadata": {
        "id": "X9mVAtYWGd_5"
      }
    },
    {
      "cell_type": "code",
      "source": [
        "bridgerton.isnull().sum()"
      ],
      "metadata": {
        "colab": {
          "base_uri": "https://localhost:8080/"
        },
        "id": "XBJqYyZAHBO5",
        "outputId": "a3055f79-5247-4549-8588-b52ff3b0426c"
      },
      "execution_count": 14,
      "outputs": [
        {
          "output_type": "execute_result",
          "data": {
            "text/plain": [
              "Text              0\n",
              "User              0\n",
              "Description    1292\n",
              "Timestamp         0\n",
              "Location          0\n",
              "Likes             0\n",
              "Hashtags         64\n",
              "dtype: int64"
            ]
          },
          "metadata": {},
          "execution_count": 14
        }
      ]
    },
    {
      "cell_type": "markdown",
      "source": [
        "Let's drop the **Description** and **Hashtags** columns, as they wouldnt be needed for this analysis"
      ],
      "metadata": {
        "id": "DzQCCmLzHXKB"
      }
    },
    {
      "cell_type": "code",
      "source": [
        "bridgerton.drop(columns = ['Description', 'Hashtags'], axis=1, inplace=True)"
      ],
      "metadata": {
        "id": "NOdH4lC1HPF6"
      },
      "execution_count": 15,
      "outputs": []
    },
    {
      "cell_type": "markdown",
      "source": [
        "Let's also drop the **User** coulmn"
      ],
      "metadata": {
        "id": "dQaaOB3GS4Ai"
      }
    },
    {
      "cell_type": "code",
      "source": [
        "bridgerton.drop(columns = ['User'], axis=1, inplace=True)"
      ],
      "metadata": {
        "id": "tQ5o3xAgTBss"
      },
      "execution_count": 16,
      "outputs": []
    },
    {
      "cell_type": "code",
      "source": [
        "print(bridgerton.shape)"
      ],
      "metadata": {
        "colab": {
          "base_uri": "https://localhost:8080/"
        },
        "id": "Jx5KqCIIH7UL",
        "outputId": "dc22128a-ed7a-4be9-c857-9fa94582cf5c"
      },
      "execution_count": 17,
      "outputs": [
        {
          "output_type": "stream",
          "name": "stdout",
          "text": [
            "(33129, 4)\n"
          ]
        }
      ]
    },
    {
      "cell_type": "code",
      "source": [
        "bridgerton.isnull().sum()"
      ],
      "metadata": {
        "colab": {
          "base_uri": "https://localhost:8080/"
        },
        "id": "vqnTAGlHIjBH",
        "outputId": "87a8ec87-68b8-4926-c7cc-8127dd02ffa8"
      },
      "execution_count": 18,
      "outputs": [
        {
          "output_type": "execute_result",
          "data": {
            "text/plain": [
              "Text         0\n",
              "Timestamp    0\n",
              "Location     0\n",
              "Likes        0\n",
              "dtype: int64"
            ]
          },
          "metadata": {},
          "execution_count": 18
        }
      ]
    },
    {
      "cell_type": "markdown",
      "source": [
        "Lets rename the column **Timestamp** to **Datetime**"
      ],
      "metadata": {
        "id": "tMn7SWS_WbF4"
      }
    },
    {
      "cell_type": "code",
      "source": [
        "bridgerton = bridgerton.rename(columns={'Timestamp': 'Datetime'})"
      ],
      "metadata": {
        "id": "LAtSaDZMWjLH"
      },
      "execution_count": 19,
      "outputs": []
    },
    {
      "cell_type": "markdown",
      "source": [
        "Now, from the Datetime column, we need to extract the **Day of the Month** and **Days of the week**"
      ],
      "metadata": {
        "id": "RfjezmxMW7yZ"
      }
    },
    {
      "cell_type": "code",
      "source": [
        "bridgerton['Day_of_Month'] = bridgerton['Datetime'].dt.day"
      ],
      "metadata": {
        "id": "U0rwNVU2Y06J"
      },
      "execution_count": 20,
      "outputs": []
    },
    {
      "cell_type": "code",
      "source": [
        "bridgerton['Day_of_Week'] = bridgerton['Datetime'].dt.day_name()"
      ],
      "metadata": {
        "id": "iflxmf0cZGXU"
      },
      "execution_count": 21,
      "outputs": []
    },
    {
      "cell_type": "code",
      "source": [
        "bridgerton.head()"
      ],
      "metadata": {
        "colab": {
          "base_uri": "https://localhost:8080/",
          "height": 206
        },
        "id": "rH8PKsicZzSl",
        "outputId": "23de00cc-2c69-4dea-a3d9-4d1780c7497d"
      },
      "execution_count": 22,
      "outputs": [
        {
          "output_type": "execute_result",
          "data": {
            "text/plain": [
              "                                                 Text            Datetime  \\\n",
              "3   Join me tonight on my LIVE at  instagram  two ... 2023-05-12 11:24:37   \n",
              "6   That scene where Charlotte says Venus is beaut... 2023-05-12 11:21:49   \n",
              "7   Corey Mylcheerest at the Vogue and Netflix pre... 2023-05-12 11:21:45   \n",
              "10  QueenCharlotte Netflix \\nking George what a sw... 2023-05-12 11:18:23   \n",
              "11         Some scenes in QueenCharlotte made me cry  2023-05-12 11:16:50   \n",
              "\n",
              "            Location  Likes  Day_of_Month Day_of_Week  \n",
              "3      United States      0            12      Friday  \n",
              "6   Karnataka, India      1            12      Friday  \n",
              "7    London, England     11            12      Friday  \n",
              "10        Manchester      0            12      Friday  \n",
              "11        In my head      0            12      Friday  "
            ],
            "text/html": [
              "\n",
              "  <div id=\"df-a64d35d9-8b76-4228-88cc-151c80fabc02\">\n",
              "    <div class=\"colab-df-container\">\n",
              "      <div>\n",
              "<style scoped>\n",
              "    .dataframe tbody tr th:only-of-type {\n",
              "        vertical-align: middle;\n",
              "    }\n",
              "\n",
              "    .dataframe tbody tr th {\n",
              "        vertical-align: top;\n",
              "    }\n",
              "\n",
              "    .dataframe thead th {\n",
              "        text-align: right;\n",
              "    }\n",
              "</style>\n",
              "<table border=\"1\" class=\"dataframe\">\n",
              "  <thead>\n",
              "    <tr style=\"text-align: right;\">\n",
              "      <th></th>\n",
              "      <th>Text</th>\n",
              "      <th>Datetime</th>\n",
              "      <th>Location</th>\n",
              "      <th>Likes</th>\n",
              "      <th>Day_of_Month</th>\n",
              "      <th>Day_of_Week</th>\n",
              "    </tr>\n",
              "  </thead>\n",
              "  <tbody>\n",
              "    <tr>\n",
              "      <th>3</th>\n",
              "      <td>Join me tonight on my LIVE at  instagram  two ...</td>\n",
              "      <td>2023-05-12 11:24:37</td>\n",
              "      <td>United States</td>\n",
              "      <td>0</td>\n",
              "      <td>12</td>\n",
              "      <td>Friday</td>\n",
              "    </tr>\n",
              "    <tr>\n",
              "      <th>6</th>\n",
              "      <td>That scene where Charlotte says Venus is beaut...</td>\n",
              "      <td>2023-05-12 11:21:49</td>\n",
              "      <td>Karnataka, India</td>\n",
              "      <td>1</td>\n",
              "      <td>12</td>\n",
              "      <td>Friday</td>\n",
              "    </tr>\n",
              "    <tr>\n",
              "      <th>7</th>\n",
              "      <td>Corey Mylcheerest at the Vogue and Netflix pre...</td>\n",
              "      <td>2023-05-12 11:21:45</td>\n",
              "      <td>London, England</td>\n",
              "      <td>11</td>\n",
              "      <td>12</td>\n",
              "      <td>Friday</td>\n",
              "    </tr>\n",
              "    <tr>\n",
              "      <th>10</th>\n",
              "      <td>QueenCharlotte Netflix \\nking George what a sw...</td>\n",
              "      <td>2023-05-12 11:18:23</td>\n",
              "      <td>Manchester</td>\n",
              "      <td>0</td>\n",
              "      <td>12</td>\n",
              "      <td>Friday</td>\n",
              "    </tr>\n",
              "    <tr>\n",
              "      <th>11</th>\n",
              "      <td>Some scenes in QueenCharlotte made me cry</td>\n",
              "      <td>2023-05-12 11:16:50</td>\n",
              "      <td>In my head</td>\n",
              "      <td>0</td>\n",
              "      <td>12</td>\n",
              "      <td>Friday</td>\n",
              "    </tr>\n",
              "  </tbody>\n",
              "</table>\n",
              "</div>\n",
              "      <button class=\"colab-df-convert\" onclick=\"convertToInteractive('df-a64d35d9-8b76-4228-88cc-151c80fabc02')\"\n",
              "              title=\"Convert this dataframe to an interactive table.\"\n",
              "              style=\"display:none;\">\n",
              "        \n",
              "  <svg xmlns=\"http://www.w3.org/2000/svg\" height=\"24px\"viewBox=\"0 0 24 24\"\n",
              "       width=\"24px\">\n",
              "    <path d=\"M0 0h24v24H0V0z\" fill=\"none\"/>\n",
              "    <path d=\"M18.56 5.44l.94 2.06.94-2.06 2.06-.94-2.06-.94-.94-2.06-.94 2.06-2.06.94zm-11 1L8.5 8.5l.94-2.06 2.06-.94-2.06-.94L8.5 2.5l-.94 2.06-2.06.94zm10 10l.94 2.06.94-2.06 2.06-.94-2.06-.94-.94-2.06-.94 2.06-2.06.94z\"/><path d=\"M17.41 7.96l-1.37-1.37c-.4-.4-.92-.59-1.43-.59-.52 0-1.04.2-1.43.59L10.3 9.45l-7.72 7.72c-.78.78-.78 2.05 0 2.83L4 21.41c.39.39.9.59 1.41.59.51 0 1.02-.2 1.41-.59l7.78-7.78 2.81-2.81c.8-.78.8-2.07 0-2.86zM5.41 20L4 18.59l7.72-7.72 1.47 1.35L5.41 20z\"/>\n",
              "  </svg>\n",
              "      </button>\n",
              "      \n",
              "  <style>\n",
              "    .colab-df-container {\n",
              "      display:flex;\n",
              "      flex-wrap:wrap;\n",
              "      gap: 12px;\n",
              "    }\n",
              "\n",
              "    .colab-df-convert {\n",
              "      background-color: #E8F0FE;\n",
              "      border: none;\n",
              "      border-radius: 50%;\n",
              "      cursor: pointer;\n",
              "      display: none;\n",
              "      fill: #1967D2;\n",
              "      height: 32px;\n",
              "      padding: 0 0 0 0;\n",
              "      width: 32px;\n",
              "    }\n",
              "\n",
              "    .colab-df-convert:hover {\n",
              "      background-color: #E2EBFA;\n",
              "      box-shadow: 0px 1px 2px rgba(60, 64, 67, 0.3), 0px 1px 3px 1px rgba(60, 64, 67, 0.15);\n",
              "      fill: #174EA6;\n",
              "    }\n",
              "\n",
              "    [theme=dark] .colab-df-convert {\n",
              "      background-color: #3B4455;\n",
              "      fill: #D2E3FC;\n",
              "    }\n",
              "\n",
              "    [theme=dark] .colab-df-convert:hover {\n",
              "      background-color: #434B5C;\n",
              "      box-shadow: 0px 1px 3px 1px rgba(0, 0, 0, 0.15);\n",
              "      filter: drop-shadow(0px 1px 2px rgba(0, 0, 0, 0.3));\n",
              "      fill: #FFFFFF;\n",
              "    }\n",
              "  </style>\n",
              "\n",
              "      <script>\n",
              "        const buttonEl =\n",
              "          document.querySelector('#df-a64d35d9-8b76-4228-88cc-151c80fabc02 button.colab-df-convert');\n",
              "        buttonEl.style.display =\n",
              "          google.colab.kernel.accessAllowed ? 'block' : 'none';\n",
              "\n",
              "        async function convertToInteractive(key) {\n",
              "          const element = document.querySelector('#df-a64d35d9-8b76-4228-88cc-151c80fabc02');\n",
              "          const dataTable =\n",
              "            await google.colab.kernel.invokeFunction('convertToInteractive',\n",
              "                                                     [key], {});\n",
              "          if (!dataTable) return;\n",
              "\n",
              "          const docLinkHtml = 'Like what you see? Visit the ' +\n",
              "            '<a target=\"_blank\" href=https://colab.research.google.com/notebooks/data_table.ipynb>data table notebook</a>'\n",
              "            + ' to learn more about interactive tables.';\n",
              "          element.innerHTML = '';\n",
              "          dataTable['output_type'] = 'display_data';\n",
              "          await google.colab.output.renderOutput(dataTable, element);\n",
              "          const docLink = document.createElement('div');\n",
              "          docLink.innerHTML = docLinkHtml;\n",
              "          element.appendChild(docLink);\n",
              "        }\n",
              "      </script>\n",
              "    </div>\n",
              "  </div>\n",
              "  "
            ]
          },
          "metadata": {},
          "execution_count": 22
        }
      ]
    },
    {
      "cell_type": "markdown",
      "source": [
        "Now our data is cleaned"
      ],
      "metadata": {
        "id": "c7thy8S2Ilo4"
      }
    },
    {
      "cell_type": "markdown",
      "source": [
        "-------------------------"
      ],
      "metadata": {
        "id": "oHAVPiN4KkZn"
      }
    },
    {
      "cell_type": "markdown",
      "source": [
        "Since its sentiment analysis we are performing, we need to get the negative and postive statement for each text, and to do so we need to get the polarity and subjectivity of the texts. \n",
        "\n",
        "For further understanding, \n",
        "\n",
        "**Subjectivity** quantifies the amount of personal opinion and factual information contained in the text. \n",
        "\n",
        "**Subjectivity** is the output that lies within [0,1] and refers to personal opinions and judgments.\n",
        "\n",
        "The higher **Subjectivity** means that the text contains personal opinion rather than factual information. And also,\n",
        "\n",
        "**Polarity** is the output that lies between [-1,1], where -1 refers to negative sentiment, +1 refers to positive sentiment, and 0 refers to a Nuetral sentiment\n"
      ],
      "metadata": {
        "id": "9JNuxgSeJbZq"
      }
    },
    {
      "cell_type": "code",
      "source": [
        "def subjectivity(txt):\n",
        "  return TextBlob(txt).sentiment.subjectivity"
      ],
      "metadata": {
        "id": "g8F6Pjq4Iki2"
      },
      "execution_count": 23,
      "outputs": []
    },
    {
      "cell_type": "code",
      "source": [
        "def polarity(txt):\n",
        "  return TextBlob(txt).sentiment.polarity"
      ],
      "metadata": {
        "id": "xd5bZfmyMdmg"
      },
      "execution_count": 24,
      "outputs": []
    },
    {
      "cell_type": "code",
      "source": [
        "bridgerton['Subjectivity'] = bridgerton['Text'].apply(subjectivity)\n",
        "bridgerton['Polarity'] = bridgerton['Text'].apply(polarity)"
      ],
      "metadata": {
        "id": "A9Qp8QuyMeKE"
      },
      "execution_count": 25,
      "outputs": []
    },
    {
      "cell_type": "code",
      "source": [
        "bridgerton.head()"
      ],
      "metadata": {
        "colab": {
          "base_uri": "https://localhost:8080/",
          "height": 206
        },
        "id": "VMJKfwCCMwDh",
        "outputId": "51779366-5225-45f2-a021-e05e2da6c0f3"
      },
      "execution_count": 26,
      "outputs": [
        {
          "output_type": "execute_result",
          "data": {
            "text/plain": [
              "                                                 Text            Datetime  \\\n",
              "3   Join me tonight on my LIVE at  instagram  two ... 2023-05-12 11:24:37   \n",
              "6   That scene where Charlotte says Venus is beaut... 2023-05-12 11:21:49   \n",
              "7   Corey Mylcheerest at the Vogue and Netflix pre... 2023-05-12 11:21:45   \n",
              "10  QueenCharlotte Netflix \\nking George what a sw... 2023-05-12 11:18:23   \n",
              "11         Some scenes in QueenCharlotte made me cry  2023-05-12 11:16:50   \n",
              "\n",
              "            Location  Likes  Day_of_Month Day_of_Week  Subjectivity  Polarity  \n",
              "3      United States      0            12      Friday           0.5  0.318182  \n",
              "6   Karnataka, India      1            12      Friday           1.0  0.850000  \n",
              "7    London, England     11            12      Friday           0.0  0.000000  \n",
              "10        Manchester      0            12      Friday           0.0  0.000000  \n",
              "11        In my head      0            12      Friday           0.0  0.000000  "
            ],
            "text/html": [
              "\n",
              "  <div id=\"df-e853ed4a-ec23-4322-9756-c72ad96af4d4\">\n",
              "    <div class=\"colab-df-container\">\n",
              "      <div>\n",
              "<style scoped>\n",
              "    .dataframe tbody tr th:only-of-type {\n",
              "        vertical-align: middle;\n",
              "    }\n",
              "\n",
              "    .dataframe tbody tr th {\n",
              "        vertical-align: top;\n",
              "    }\n",
              "\n",
              "    .dataframe thead th {\n",
              "        text-align: right;\n",
              "    }\n",
              "</style>\n",
              "<table border=\"1\" class=\"dataframe\">\n",
              "  <thead>\n",
              "    <tr style=\"text-align: right;\">\n",
              "      <th></th>\n",
              "      <th>Text</th>\n",
              "      <th>Datetime</th>\n",
              "      <th>Location</th>\n",
              "      <th>Likes</th>\n",
              "      <th>Day_of_Month</th>\n",
              "      <th>Day_of_Week</th>\n",
              "      <th>Subjectivity</th>\n",
              "      <th>Polarity</th>\n",
              "    </tr>\n",
              "  </thead>\n",
              "  <tbody>\n",
              "    <tr>\n",
              "      <th>3</th>\n",
              "      <td>Join me tonight on my LIVE at  instagram  two ...</td>\n",
              "      <td>2023-05-12 11:24:37</td>\n",
              "      <td>United States</td>\n",
              "      <td>0</td>\n",
              "      <td>12</td>\n",
              "      <td>Friday</td>\n",
              "      <td>0.5</td>\n",
              "      <td>0.318182</td>\n",
              "    </tr>\n",
              "    <tr>\n",
              "      <th>6</th>\n",
              "      <td>That scene where Charlotte says Venus is beaut...</td>\n",
              "      <td>2023-05-12 11:21:49</td>\n",
              "      <td>Karnataka, India</td>\n",
              "      <td>1</td>\n",
              "      <td>12</td>\n",
              "      <td>Friday</td>\n",
              "      <td>1.0</td>\n",
              "      <td>0.850000</td>\n",
              "    </tr>\n",
              "    <tr>\n",
              "      <th>7</th>\n",
              "      <td>Corey Mylcheerest at the Vogue and Netflix pre...</td>\n",
              "      <td>2023-05-12 11:21:45</td>\n",
              "      <td>London, England</td>\n",
              "      <td>11</td>\n",
              "      <td>12</td>\n",
              "      <td>Friday</td>\n",
              "      <td>0.0</td>\n",
              "      <td>0.000000</td>\n",
              "    </tr>\n",
              "    <tr>\n",
              "      <th>10</th>\n",
              "      <td>QueenCharlotte Netflix \\nking George what a sw...</td>\n",
              "      <td>2023-05-12 11:18:23</td>\n",
              "      <td>Manchester</td>\n",
              "      <td>0</td>\n",
              "      <td>12</td>\n",
              "      <td>Friday</td>\n",
              "      <td>0.0</td>\n",
              "      <td>0.000000</td>\n",
              "    </tr>\n",
              "    <tr>\n",
              "      <th>11</th>\n",
              "      <td>Some scenes in QueenCharlotte made me cry</td>\n",
              "      <td>2023-05-12 11:16:50</td>\n",
              "      <td>In my head</td>\n",
              "      <td>0</td>\n",
              "      <td>12</td>\n",
              "      <td>Friday</td>\n",
              "      <td>0.0</td>\n",
              "      <td>0.000000</td>\n",
              "    </tr>\n",
              "  </tbody>\n",
              "</table>\n",
              "</div>\n",
              "      <button class=\"colab-df-convert\" onclick=\"convertToInteractive('df-e853ed4a-ec23-4322-9756-c72ad96af4d4')\"\n",
              "              title=\"Convert this dataframe to an interactive table.\"\n",
              "              style=\"display:none;\">\n",
              "        \n",
              "  <svg xmlns=\"http://www.w3.org/2000/svg\" height=\"24px\"viewBox=\"0 0 24 24\"\n",
              "       width=\"24px\">\n",
              "    <path d=\"M0 0h24v24H0V0z\" fill=\"none\"/>\n",
              "    <path d=\"M18.56 5.44l.94 2.06.94-2.06 2.06-.94-2.06-.94-.94-2.06-.94 2.06-2.06.94zm-11 1L8.5 8.5l.94-2.06 2.06-.94-2.06-.94L8.5 2.5l-.94 2.06-2.06.94zm10 10l.94 2.06.94-2.06 2.06-.94-2.06-.94-.94-2.06-.94 2.06-2.06.94z\"/><path d=\"M17.41 7.96l-1.37-1.37c-.4-.4-.92-.59-1.43-.59-.52 0-1.04.2-1.43.59L10.3 9.45l-7.72 7.72c-.78.78-.78 2.05 0 2.83L4 21.41c.39.39.9.59 1.41.59.51 0 1.02-.2 1.41-.59l7.78-7.78 2.81-2.81c.8-.78.8-2.07 0-2.86zM5.41 20L4 18.59l7.72-7.72 1.47 1.35L5.41 20z\"/>\n",
              "  </svg>\n",
              "      </button>\n",
              "      \n",
              "  <style>\n",
              "    .colab-df-container {\n",
              "      display:flex;\n",
              "      flex-wrap:wrap;\n",
              "      gap: 12px;\n",
              "    }\n",
              "\n",
              "    .colab-df-convert {\n",
              "      background-color: #E8F0FE;\n",
              "      border: none;\n",
              "      border-radius: 50%;\n",
              "      cursor: pointer;\n",
              "      display: none;\n",
              "      fill: #1967D2;\n",
              "      height: 32px;\n",
              "      padding: 0 0 0 0;\n",
              "      width: 32px;\n",
              "    }\n",
              "\n",
              "    .colab-df-convert:hover {\n",
              "      background-color: #E2EBFA;\n",
              "      box-shadow: 0px 1px 2px rgba(60, 64, 67, 0.3), 0px 1px 3px 1px rgba(60, 64, 67, 0.15);\n",
              "      fill: #174EA6;\n",
              "    }\n",
              "\n",
              "    [theme=dark] .colab-df-convert {\n",
              "      background-color: #3B4455;\n",
              "      fill: #D2E3FC;\n",
              "    }\n",
              "\n",
              "    [theme=dark] .colab-df-convert:hover {\n",
              "      background-color: #434B5C;\n",
              "      box-shadow: 0px 1px 3px 1px rgba(0, 0, 0, 0.15);\n",
              "      filter: drop-shadow(0px 1px 2px rgba(0, 0, 0, 0.3));\n",
              "      fill: #FFFFFF;\n",
              "    }\n",
              "  </style>\n",
              "\n",
              "      <script>\n",
              "        const buttonEl =\n",
              "          document.querySelector('#df-e853ed4a-ec23-4322-9756-c72ad96af4d4 button.colab-df-convert');\n",
              "        buttonEl.style.display =\n",
              "          google.colab.kernel.accessAllowed ? 'block' : 'none';\n",
              "\n",
              "        async function convertToInteractive(key) {\n",
              "          const element = document.querySelector('#df-e853ed4a-ec23-4322-9756-c72ad96af4d4');\n",
              "          const dataTable =\n",
              "            await google.colab.kernel.invokeFunction('convertToInteractive',\n",
              "                                                     [key], {});\n",
              "          if (!dataTable) return;\n",
              "\n",
              "          const docLinkHtml = 'Like what you see? Visit the ' +\n",
              "            '<a target=\"_blank\" href=https://colab.research.google.com/notebooks/data_table.ipynb>data table notebook</a>'\n",
              "            + ' to learn more about interactive tables.';\n",
              "          element.innerHTML = '';\n",
              "          dataTable['output_type'] = 'display_data';\n",
              "          await google.colab.output.renderOutput(dataTable, element);\n",
              "          const docLink = document.createElement('div');\n",
              "          docLink.innerHTML = docLinkHtml;\n",
              "          element.appendChild(docLink);\n",
              "        }\n",
              "      </script>\n",
              "    </div>\n",
              "  </div>\n",
              "  "
            ]
          },
          "metadata": {},
          "execution_count": 26
        }
      ]
    },
    {
      "cell_type": "markdown",
      "source": [
        "Now that we have gotten the subjectivity scores and the polarity scores, we will define a function that will add another column called **Sentiment** which will carry the (negative, posistive or neutral) sentiment types for each polarity scores. And also, \n",
        "\n",
        "An added column called **Opinion** that carries (factual information or personal opinion) for each subjectivity scores "
      ],
      "metadata": {
        "id": "Dr4-V82VNLFH"
      }
    },
    {
      "cell_type": "code",
      "source": [
        "import numpy as np\n",
        "\n",
        "def sentiment(pol):\n",
        "    conditions = [\n",
        "        pol == 0.0,\n",
        "        pol > 0,\n",
        "        pol < 0\n",
        "    ]\n",
        "    choices = [\"neutral\", \"positive\", \"negative\"]\n",
        "    return np.select(conditions, choices, default=\"unknown\")\n",
        "\n",
        "bridgerton['Sentiment'] = sentiment(bridgerton.Polarity)"
      ],
      "metadata": {
        "id": "P8ZUU3MFM9EI"
      },
      "execution_count": 27,
      "outputs": []
    },
    {
      "cell_type": "code",
      "source": [
        "def opinion(sub):\n",
        "    conditions = [\n",
        "        sub == 0.5,\n",
        "        sub > 0.5,\n",
        "        sub < 0.5\n",
        "    ]\n",
        "    choices = [\"neutral opinion\", \"personal opinion\", \"factual information\"]\n",
        "    return np.select(conditions, choices, default=\"unknown\")\n",
        "\n",
        "bridgerton['Opinions'] = opinion(bridgerton.Subjectivity)"
      ],
      "metadata": {
        "id": "iRfXHLEYP4Na"
      },
      "execution_count": 28,
      "outputs": []
    },
    {
      "cell_type": "code",
      "source": [
        "bridgerton.head()"
      ],
      "metadata": {
        "colab": {
          "base_uri": "https://localhost:8080/",
          "height": 337
        },
        "id": "z117oPMUQOeI",
        "outputId": "74052cd4-8e78-4e4a-ac58-2cc01f4e1bc6"
      },
      "execution_count": 29,
      "outputs": [
        {
          "output_type": "execute_result",
          "data": {
            "text/plain": [
              "                                                 Text            Datetime  \\\n",
              "3   Join me tonight on my LIVE at  instagram  two ... 2023-05-12 11:24:37   \n",
              "6   That scene where Charlotte says Venus is beaut... 2023-05-12 11:21:49   \n",
              "7   Corey Mylcheerest at the Vogue and Netflix pre... 2023-05-12 11:21:45   \n",
              "10  QueenCharlotte Netflix \\nking George what a sw... 2023-05-12 11:18:23   \n",
              "11         Some scenes in QueenCharlotte made me cry  2023-05-12 11:16:50   \n",
              "\n",
              "            Location  Likes  Day_of_Month Day_of_Week  Subjectivity  Polarity  \\\n",
              "3      United States      0            12      Friday           0.5  0.318182   \n",
              "6   Karnataka, India      1            12      Friday           1.0  0.850000   \n",
              "7    London, England     11            12      Friday           0.0  0.000000   \n",
              "10        Manchester      0            12      Friday           0.0  0.000000   \n",
              "11        In my head      0            12      Friday           0.0  0.000000   \n",
              "\n",
              "   Sentiment             Opinions  \n",
              "3   positive      neutral opinion  \n",
              "6   positive     personal opinion  \n",
              "7    neutral  factual information  \n",
              "10   neutral  factual information  \n",
              "11   neutral  factual information  "
            ],
            "text/html": [
              "\n",
              "  <div id=\"df-c97c9916-250c-4ba0-a3e7-0d74a01a525d\">\n",
              "    <div class=\"colab-df-container\">\n",
              "      <div>\n",
              "<style scoped>\n",
              "    .dataframe tbody tr th:only-of-type {\n",
              "        vertical-align: middle;\n",
              "    }\n",
              "\n",
              "    .dataframe tbody tr th {\n",
              "        vertical-align: top;\n",
              "    }\n",
              "\n",
              "    .dataframe thead th {\n",
              "        text-align: right;\n",
              "    }\n",
              "</style>\n",
              "<table border=\"1\" class=\"dataframe\">\n",
              "  <thead>\n",
              "    <tr style=\"text-align: right;\">\n",
              "      <th></th>\n",
              "      <th>Text</th>\n",
              "      <th>Datetime</th>\n",
              "      <th>Location</th>\n",
              "      <th>Likes</th>\n",
              "      <th>Day_of_Month</th>\n",
              "      <th>Day_of_Week</th>\n",
              "      <th>Subjectivity</th>\n",
              "      <th>Polarity</th>\n",
              "      <th>Sentiment</th>\n",
              "      <th>Opinions</th>\n",
              "    </tr>\n",
              "  </thead>\n",
              "  <tbody>\n",
              "    <tr>\n",
              "      <th>3</th>\n",
              "      <td>Join me tonight on my LIVE at  instagram  two ...</td>\n",
              "      <td>2023-05-12 11:24:37</td>\n",
              "      <td>United States</td>\n",
              "      <td>0</td>\n",
              "      <td>12</td>\n",
              "      <td>Friday</td>\n",
              "      <td>0.5</td>\n",
              "      <td>0.318182</td>\n",
              "      <td>positive</td>\n",
              "      <td>neutral opinion</td>\n",
              "    </tr>\n",
              "    <tr>\n",
              "      <th>6</th>\n",
              "      <td>That scene where Charlotte says Venus is beaut...</td>\n",
              "      <td>2023-05-12 11:21:49</td>\n",
              "      <td>Karnataka, India</td>\n",
              "      <td>1</td>\n",
              "      <td>12</td>\n",
              "      <td>Friday</td>\n",
              "      <td>1.0</td>\n",
              "      <td>0.850000</td>\n",
              "      <td>positive</td>\n",
              "      <td>personal opinion</td>\n",
              "    </tr>\n",
              "    <tr>\n",
              "      <th>7</th>\n",
              "      <td>Corey Mylcheerest at the Vogue and Netflix pre...</td>\n",
              "      <td>2023-05-12 11:21:45</td>\n",
              "      <td>London, England</td>\n",
              "      <td>11</td>\n",
              "      <td>12</td>\n",
              "      <td>Friday</td>\n",
              "      <td>0.0</td>\n",
              "      <td>0.000000</td>\n",
              "      <td>neutral</td>\n",
              "      <td>factual information</td>\n",
              "    </tr>\n",
              "    <tr>\n",
              "      <th>10</th>\n",
              "      <td>QueenCharlotte Netflix \\nking George what a sw...</td>\n",
              "      <td>2023-05-12 11:18:23</td>\n",
              "      <td>Manchester</td>\n",
              "      <td>0</td>\n",
              "      <td>12</td>\n",
              "      <td>Friday</td>\n",
              "      <td>0.0</td>\n",
              "      <td>0.000000</td>\n",
              "      <td>neutral</td>\n",
              "      <td>factual information</td>\n",
              "    </tr>\n",
              "    <tr>\n",
              "      <th>11</th>\n",
              "      <td>Some scenes in QueenCharlotte made me cry</td>\n",
              "      <td>2023-05-12 11:16:50</td>\n",
              "      <td>In my head</td>\n",
              "      <td>0</td>\n",
              "      <td>12</td>\n",
              "      <td>Friday</td>\n",
              "      <td>0.0</td>\n",
              "      <td>0.000000</td>\n",
              "      <td>neutral</td>\n",
              "      <td>factual information</td>\n",
              "    </tr>\n",
              "  </tbody>\n",
              "</table>\n",
              "</div>\n",
              "      <button class=\"colab-df-convert\" onclick=\"convertToInteractive('df-c97c9916-250c-4ba0-a3e7-0d74a01a525d')\"\n",
              "              title=\"Convert this dataframe to an interactive table.\"\n",
              "              style=\"display:none;\">\n",
              "        \n",
              "  <svg xmlns=\"http://www.w3.org/2000/svg\" height=\"24px\"viewBox=\"0 0 24 24\"\n",
              "       width=\"24px\">\n",
              "    <path d=\"M0 0h24v24H0V0z\" fill=\"none\"/>\n",
              "    <path d=\"M18.56 5.44l.94 2.06.94-2.06 2.06-.94-2.06-.94-.94-2.06-.94 2.06-2.06.94zm-11 1L8.5 8.5l.94-2.06 2.06-.94-2.06-.94L8.5 2.5l-.94 2.06-2.06.94zm10 10l.94 2.06.94-2.06 2.06-.94-2.06-.94-.94-2.06-.94 2.06-2.06.94z\"/><path d=\"M17.41 7.96l-1.37-1.37c-.4-.4-.92-.59-1.43-.59-.52 0-1.04.2-1.43.59L10.3 9.45l-7.72 7.72c-.78.78-.78 2.05 0 2.83L4 21.41c.39.39.9.59 1.41.59.51 0 1.02-.2 1.41-.59l7.78-7.78 2.81-2.81c.8-.78.8-2.07 0-2.86zM5.41 20L4 18.59l7.72-7.72 1.47 1.35L5.41 20z\"/>\n",
              "  </svg>\n",
              "      </button>\n",
              "      \n",
              "  <style>\n",
              "    .colab-df-container {\n",
              "      display:flex;\n",
              "      flex-wrap:wrap;\n",
              "      gap: 12px;\n",
              "    }\n",
              "\n",
              "    .colab-df-convert {\n",
              "      background-color: #E8F0FE;\n",
              "      border: none;\n",
              "      border-radius: 50%;\n",
              "      cursor: pointer;\n",
              "      display: none;\n",
              "      fill: #1967D2;\n",
              "      height: 32px;\n",
              "      padding: 0 0 0 0;\n",
              "      width: 32px;\n",
              "    }\n",
              "\n",
              "    .colab-df-convert:hover {\n",
              "      background-color: #E2EBFA;\n",
              "      box-shadow: 0px 1px 2px rgba(60, 64, 67, 0.3), 0px 1px 3px 1px rgba(60, 64, 67, 0.15);\n",
              "      fill: #174EA6;\n",
              "    }\n",
              "\n",
              "    [theme=dark] .colab-df-convert {\n",
              "      background-color: #3B4455;\n",
              "      fill: #D2E3FC;\n",
              "    }\n",
              "\n",
              "    [theme=dark] .colab-df-convert:hover {\n",
              "      background-color: #434B5C;\n",
              "      box-shadow: 0px 1px 3px 1px rgba(0, 0, 0, 0.15);\n",
              "      filter: drop-shadow(0px 1px 2px rgba(0, 0, 0, 0.3));\n",
              "      fill: #FFFFFF;\n",
              "    }\n",
              "  </style>\n",
              "\n",
              "      <script>\n",
              "        const buttonEl =\n",
              "          document.querySelector('#df-c97c9916-250c-4ba0-a3e7-0d74a01a525d button.colab-df-convert');\n",
              "        buttonEl.style.display =\n",
              "          google.colab.kernel.accessAllowed ? 'block' : 'none';\n",
              "\n",
              "        async function convertToInteractive(key) {\n",
              "          const element = document.querySelector('#df-c97c9916-250c-4ba0-a3e7-0d74a01a525d');\n",
              "          const dataTable =\n",
              "            await google.colab.kernel.invokeFunction('convertToInteractive',\n",
              "                                                     [key], {});\n",
              "          if (!dataTable) return;\n",
              "\n",
              "          const docLinkHtml = 'Like what you see? Visit the ' +\n",
              "            '<a target=\"_blank\" href=https://colab.research.google.com/notebooks/data_table.ipynb>data table notebook</a>'\n",
              "            + ' to learn more about interactive tables.';\n",
              "          element.innerHTML = '';\n",
              "          dataTable['output_type'] = 'display_data';\n",
              "          await google.colab.output.renderOutput(dataTable, element);\n",
              "          const docLink = document.createElement('div');\n",
              "          docLink.innerHTML = docLinkHtml;\n",
              "          element.appendChild(docLink);\n",
              "        }\n",
              "      </script>\n",
              "    </div>\n",
              "  </div>\n",
              "  "
            ]
          },
          "metadata": {},
          "execution_count": 29
        }
      ]
    },
    {
      "cell_type": "markdown",
      "source": [
        "Finally, we are done preprocessing and cleaning the data for analysis.\n",
        "\n",
        "Lets extarct the dataframe as both an excel an csv file fo further analysis"
      ],
      "metadata": {
        "id": "85ap9KHKbmwM"
      }
    },
    {
      "cell_type": "code",
      "source": [
        "bridgerton.to_csv('bridgerton.csv', index=False)"
      ],
      "metadata": {
        "id": "D8slBAQ3UuAY"
      },
      "execution_count": 30,
      "outputs": []
    },
    {
      "cell_type": "code",
      "source": [
        "bridgerton.to_excel('bridgerton.xlsx', index=False)"
      ],
      "metadata": {
        "id": "Uwu4Jd-7cGvD"
      },
      "execution_count": 31,
      "outputs": []
    },
    {
      "cell_type": "code",
      "source": [],
      "metadata": {
        "id": "qrW7EHSLcM1u"
      },
      "execution_count": null,
      "outputs": []
    }
  ]
}